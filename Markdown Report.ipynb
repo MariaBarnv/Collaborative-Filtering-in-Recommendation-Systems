{
 "cells": [
  {
   "cell_type": "markdown",
   "id": "c561a450",
   "metadata": {},
   "source": [
    "# Collaborative Filtering Recommendation Systems\n"
   ]
  },
  {
   "cell_type": "markdown",
   "id": "90fe4d45",
   "metadata": {},
   "source": [
    "\n",
    "## 1. Introduction\n",
    "\n",
    "Collaborative Filtering (CF) is a widely used technique for building recommendation systems. \n",
    "It relies on user interactions and relationships to predict preferences and suggest items. \n",
    "CF is applied in various domains, including:\n",
    "- **Streaming platforms**: Netflix uses CF to recommend movies and TV shows.\n",
    "- **E-commerce**: Amazon suggests products based on user behavior.\n",
    "- **Music streaming**: Spotify personalizes playlists using user-item interactions.\n",
    "- **Social networks**: Facebook and Instagram recommend content based on user engagement.\n"
   ]
  },
  {
   "cell_type": "markdown",
   "id": "9d6dad1f",
   "metadata": {},
   "source": [
    "\n",
    "## 2. Examples of Collaborative Filtering in Practice\n",
    "\n",
    "1. **Netflix**:\n",
    "   - Netflix offered a $1M prize for improving its recommendation algorithm using Collaborative Filtering.\n",
    "   - Reference: Bennett, J., & Lanning, S. (2007). \"The Netflix Prize.\":https://www.cs.uic.edu/~liub/KDD-cup-2007/NetflixPrize-description.pdf.\n",
    "   \n",
    "2. **Amazon**:\n",
    "   - Amazon uses Item-Based Collaborative Filtering to recommend products.\n",
    "   - Reference: Linden, G., Smith, B., & York, J. (2003). \"Amazon.com recommendations: Item-to-item collaborative filtering.\": https://www.cs.umd.edu/~samir/498/Amazon-Recommendations.pdf.\n",
    "\n",
    "3. **Spotify**:\n",
    "   - Combines CF with hybrid models to create personalized playlists.\n",
    "   - Reference: Johnson, C. (2014). \"Logistic Matrix Factorization for Implicit\n",
    "Feedback Data\":https://web.stanford.edu/~rezab/nips2014workshop/submits/logmat.pdf.\n"
   ]
  },
  {
   "metadata": {},
   "cell_type": "markdown",
   "source": [
    "\n",
    "## 3. Selected Library and Functions\n",
    "\n",
    "**Library:** Surprise (Python)\n",
    "- **Why Surprise?**\n",
    "  - Supports multiple Collaborative Filtering algorithms.\n",
    "  - Easy evaluation of recommendation models using metrics like RMSE.\n",
    "\n",
    "**Functions and Parameters:**\n",
    "1. **Dataset**\n",
    "   - `Dataset.load_builtin('ml-100k')`: Loads the MovieLens 100k dataset.\n",
    "2. **User-Based CF**\n",
    "   - `KNNBasic(sim_options={'name': 'cosine', 'user_based': True})`: Implements User-Based Collaborative Filtering using cosine similarity.\n",
    "3. **Matrix Factorization**\n",
    "   - `SVD()`: Applies Singular Value Decomposition for Matrix Factorization.\n",
    "4. **Model Evaluation**\n",
    "   - `accuracy.rmse(predictions)`: Calculates Root Mean Squared Error for model performance evaluation."
   ],
   "id": "cbe1476a"
  },
  {
   "metadata": {
    "ExecuteTime": {
     "end_time": "2025-01-08T15:48:50.452472Z",
     "start_time": "2025-01-08T15:48:50.414125Z"
    }
   },
   "cell_type": "code",
   "source": [
    "# Importing necessary libraries\n",
    "from surprise import Dataset, Reader, KNNBasic, SVD, accuracy\n",
    "from surprise.model_selection import train_test_split\n",
    "import pandas as pd"
   ],
   "id": "1aa7da0228c1f81c",
   "outputs": [],
   "execution_count": 9
  },
  {
   "metadata": {},
   "cell_type": "markdown",
   "source": [
    "\n",
    "## 4. Data Set Characteristics\n",
    "\n",
    "**Dataset:** MovieLens 100k  \n",
    "- **Description**: A widely used dataset containing user ratings of movies.  \n",
    "- **Key Characteristics**:\n",
    "  - **Number of Users**: 943.\n",
    "  - **Number of Movies**: 1,682.\n",
    "  - **Number of Ratings**: 100,000.\n",
    "  - **Sparsity**: ~94% of the user-item matrix is empty.  \n",
    "- **Features**:\n",
    "  - User ID.\n",
    "  - Movie ID.\n",
    "  - Rating (1–5 scale).\n",
    "  - Timestamp."
   ],
   "id": "61ca3553"
  },
  {
   "metadata": {
    "ExecuteTime": {
     "end_time": "2025-01-08T15:48:50.795059Z",
     "start_time": "2025-01-08T15:48:50.509602Z"
    }
   },
   "cell_type": "code",
   "source": [
    "#Loading data and inspecting its structure\n",
    "\n",
    "# Load the built-in MovieLens 100k dataset\n",
    "data_raw = Dataset.load_builtin('ml-100k')\n",
    "\n",
    "# Convert raw data into a Pandas DataFrame for analysis\n",
    "df = pd.DataFrame(data_raw.raw_ratings, columns=[\"user_id\", \"item_id\", \"rating\", \"timestamp\"])\n",
    "\n",
    "# Display the first few rows of the dataset\n",
    "print(\"First 5 rows of the dataset:\")\n",
    "print(df.head())\n",
    "\n",
    "# Check the dataset dimensions\n",
    "print(\"\\nDataset dimensions:\")\n",
    "print(f\"Number of rows: {df.shape[0]}\")\n",
    "print(f\"Number of unique users: {df['user_id'].nunique()}\")\n",
    "print(f\"Number of unique items: {df['item_id'].nunique()}\")\n",
    "\n",
    "# Display the distribution of ratings\n",
    "print(\"\\nRating distribution:\")\n",
    "print(df['rating'].value_counts())"
   ],
   "id": "13d4aa45f4c47d19",
   "outputs": [
    {
     "name": "stdout",
     "output_type": "stream",
     "text": [
      "First 5 rows of the dataset:\n",
      "  user_id item_id  rating  timestamp\n",
      "0     196     242     3.0  881250949\n",
      "1     186     302     3.0  891717742\n",
      "2      22     377     1.0  878887116\n",
      "3     244      51     2.0  880606923\n",
      "4     166     346     1.0  886397596\n",
      "\n",
      "Dataset dimensions:\n",
      "Number of rows: 100000\n",
      "Number of unique users: 943\n",
      "Number of unique items: 1682\n",
      "\n",
      "Rating distribution:\n",
      "rating\n",
      "4.0    34174\n",
      "3.0    27145\n",
      "5.0    21201\n",
      "2.0    11370\n",
      "1.0     6110\n",
      "Name: count, dtype: int64\n"
     ]
    }
   ],
   "execution_count": 10
  },
  {
   "cell_type": "markdown",
   "id": "a893b091",
   "metadata": {},
   "source": [
    "\n",
    "## 5. Empirical Analysis\n",
    "\n",
    "**Goal**: To evaluate and compare the performance of User-Based Collaborative Filtering and Matrix Factorization (SVD) on the MovieLens 100k dataset.\n",
    "\n",
    "### Steps:\n",
    "1. Load and preprocess the dataset.\n",
    "2. Implement User-Based CF and Matrix Factorization.\n",
    "3. Evaluate models using RMSE.\n",
    "4. Interpret results.\n"
   ]
  },
  {
   "metadata": {
    "ExecuteTime": {
     "end_time": "2025-01-08T15:48:53.529799Z",
     "start_time": "2025-01-08T15:48:50.808888Z"
    }
   },
   "cell_type": "code",
   "source": [
    "# Splitting the data into training and testing sets\n",
    "\n",
    "# Split the dataset using Surprise\n",
    "trainset, testset = train_test_split(data_raw, test_size=0.2, random_state=42)\n",
    "\n",
    "# User-Based Collaborative Filtering\n",
    "\n",
    "# Define similarity options for User-Based Collaborative Filtering\n",
    "sim_options = {'name': 'cosine', 'user_based': True}  # Use cosine similarity between users\n",
    "\n",
    "# Create the User-Based CF model\n",
    "user_based_model = KNNBasic(sim_options=sim_options)\n",
    "\n",
    "# Train the model on the training set\n",
    "user_based_model.fit(trainset)\n",
    "\n",
    "# Generate predictions for the test set\n",
    "user_based_predictions = user_based_model.test(testset)\n",
    "\n",
    "# Calculate and display the RMSE for User-Based CF\n",
    "user_based_rmse = accuracy.rmse(user_based_predictions)\n",
    "print(f\"\\nUser-Based CF RMSE: {user_based_rmse}\")\n",
    "\n",
    "# Matrix Factorization (SVD)\n",
    "\n",
    "# Create the SVD model\n",
    "svd_model = SVD()\n",
    "\n",
    "# Train the model on the training set\n",
    "svd_model.fit(trainset)\n",
    "\n",
    "# Generate predictions for the test set\n",
    "svd_predictions = svd_model.test(testset)\n",
    "\n",
    "# Calculate and display the RMSE for SVD\n",
    "svd_rmse = accuracy.rmse(svd_predictions)\n",
    "print(f\"SVD RMSE: {svd_rmse}\")\n",
    "\n",
    "# Making predictions for a specific user and item \n",
    "\n",
    "# Predict the rating for user ID 196 and movie ID 302\n",
    "predicted_rating = svd_model.predict(uid=str(196), iid=str(302))\n",
    "print(f\"\\nPredicted Rating for User 196 and Movie 302: {predicted_rating.est}\")\n",
    "\n",
    "# Comparing the results\n",
    "\n",
    "# Print a comparison of the RMSE values for the two methods\n",
    "print(\"\\nComparison of Methods:\")\n",
    "print(f\"User-Based CF RMSE: {user_based_rmse}\")\n",
    "print(f\"SVD RMSE: {svd_rmse}\")\n"
   ],
   "id": "b713f4e525c8e79b",
   "outputs": [
    {
     "name": "stdout",
     "output_type": "stream",
     "text": [
      "Computing the cosine similarity matrix...\n",
      "Done computing similarity matrix.\n",
      "RMSE: 1.0194\n",
      "\n",
      "User-Based CF RMSE: 1.0193536815834319\n",
      "RMSE: 0.9347\n",
      "SVD RMSE: 0.9346883169891882\n",
      "\n",
      "Predicted Rating for User 196 and Movie 302: 4.077811301035312\n",
      "\n",
      "Comparison of Methods:\n",
      "User-Based CF RMSE: 1.0193536815834319\n",
      "SVD RMSE: 0.9346883169891882\n"
     ]
    }
   ],
   "execution_count": 11
  },
  {
   "cell_type": "markdown",
   "id": "e5bcdfbd",
   "metadata": {},
   "source": [
    "\n",
    "## Interpretation of Results:\n",
    "\n",
    "The results indicate the performance of two Collaborative Filtering methods, User-Based CF and Matrix Factorization (SVD), based on RMSE (Root Mean Squared Error).\n",
    "\n",
    "### User-Based Collaborative Filtering \n",
    "\n",
    "RMSE: 1.0194\n",
    "\n",
    "This is the error rate for the User-Based CF model. The model has a higher RMSE, indicating it is less accurate in predicting user ratings compared to SVD. User-Based CF struggles with sparsity in the dataset (many missing ratings), making it less effective for this problem.\n",
    "\n",
    "### Matrix Factorization (SVD)\n",
    "\n",
    "RMSE: 0.9347\n",
    "\n",
    "The SVD model has a lower RMSE, showing better prediction accuracy compared to User-Based CF.\n",
    "SVD captures latent factors (hidden relationships between users and items) and handles sparse datasets more effectively.\n",
    "SVD's performance indicates it is better suited for large, sparse datasets like MovieLens.\n",
    "\n",
    "### Specific Prediction\n",
    "\n",
    "Predicted Rating for User 196 and Movie 302: 4.29\n",
    "\n",
    "The SVD model predicts that User 196 would rate Movie 302 approximately 4.29. This suggests the user is likely to enjoy this movie since the predicted rating is close to the maximum value (5)."
   ]
  }
 ],
 "metadata": {
  "kernelspec": {
   "name": "python3",
   "language": "python",
   "display_name": "Python 3 (ipykernel)"
  }
 },
 "nbformat": 4,
 "nbformat_minor": 5
}
